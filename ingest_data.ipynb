{
 "cells": [
  {
   "cell_type": "code",
   "execution_count": 23,
   "metadata": {},
   "outputs": [],
   "source": [
    "import os\n",
    "import requests\n",
    "import pandas as pd\n",
    "from sqlalchemy import create_engine, exc\n",
    "from dotenv import load_dotenv  # Import the load_dotenv function"
   ]
  },
  {
   "cell_type": "code",
   "execution_count": 24,
   "metadata": {},
   "outputs": [
    {
     "data": {
      "text/plain": [
       "True"
      ]
     },
     "execution_count": 24,
     "metadata": {},
     "output_type": "execute_result"
    }
   ],
   "source": [
    "# Load environment variables from .env file\n",
    "load_dotenv()"
   ]
  },
  {
   "cell_type": "code",
   "execution_count": 25,
   "metadata": {},
   "outputs": [],
   "source": [
    "# Database connection details\n",
    "DATABASE_URI = f\"postgresql+psycopg2://{os.getenv('DB_USER')}:{os.getenv('DB_PASSWORD')}@{os.getenv('DB_HOST')}:{os.getenv('DB_PORT')}/{os.getenv('DB_NAME')}\"\n",
    "\n",
    "# URL for the CSV file (January 2024)\n",
    "CSV_URL = \"https://siros.anac.gov.br/siros/registros/diversos/vra/2024/VRA_2024_01.csv\"\n",
    "\n",
    "# Directory to temporarily store downloaded CSV files\n",
    "TEMP_DIR = \"temp_csv_files\"\n",
    "os.makedirs(TEMP_DIR, exist_ok=True)\n",
    "\n",
    "# Batch size (number of rows to process at a time)\n",
    "BATCH_SIZE = 10000"
   ]
  },
  {
   "cell_type": "code",
   "execution_count": 26,
   "metadata": {},
   "outputs": [],
   "source": [
    "# Function to download the CSV file\n",
    "def download_csv() -> str:\n",
    "    response = requests.get(CSV_URL)\n",
    "    if response.status_code == 200:\n",
    "        file_path = os.path.join(TEMP_DIR, \"vra_2024_01.csv\")\n",
    "        with open(file_path, \"wb\") as file:\n",
    "            file.write(response.content)\n",
    "        print(\"Downloaded CSV file successfully.\")\n",
    "        return file_path\n",
    "    else:\n",
    "        print(\"Failed to download CSV file.\")\n",
    "        return None"
   ]
  },
  {
   "cell_type": "code",
   "execution_count": 27,
   "metadata": {},
   "outputs": [
    {
     "name": "stdout",
     "output_type": "stream",
     "text": [
      "Downloaded CSV file successfully.\n"
     ]
    },
    {
     "data": {
      "text/plain": [
       "'temp_csv_files/vra_2024_01.csv'"
      ]
     },
     "execution_count": 27,
     "metadata": {},
     "output_type": "execute_result"
    }
   ],
   "source": [
    "download_csv()"
   ]
  },
  {
   "cell_type": "code",
   "execution_count": 30,
   "metadata": {},
   "outputs": [],
   "source": [
    "def ingest_csv_to_postgres(file_path: str):\n",
    "    try:\n",
    "        # Create a SQLAlchemy engine\n",
    "        engine = create_engine(DATABASE_URI)\n",
    "        \n",
    "        # Define table name\n",
    "        table_name = \"vra_2024_01\"\n",
    "        \n",
    "        # Read CSV in chunks using pandas\n",
    "        for chunk in pd.read_csv(\n",
    "            file_path,\n",
    "            chunksize=BATCH_SIZE,\n",
    "            sep=';',              # Use semicolon as the delimiter\n",
    "            on_bad_lines='skip',  # Skip problematic rows\n",
    "            quotechar='\"',        # Specify the quote character\n",
    "            engine='python'       # Use the Python engine for flexible parsing\n",
    "        ):\n",
    "            # Ingest each chunk into PostgreSQL\n",
    "            chunk.to_sql(table_name, engine, if_exists=\"append\", index=False)\n",
    "            print(f\"Ingested batch of {len(chunk)} rows into table {table_name}\")\n",
    "        \n",
    "        print(f\"Finished ingesting data into table {table_name}\")\n",
    "    except exc.SQLAlchemyError as e:\n",
    "        print(f\"Error ingesting data: {e}\")\n",
    "    except Exception as e:\n",
    "        print(f\"Unexpected error: {e}\")"
   ]
  },
  {
   "cell_type": "code",
   "execution_count": 31,
   "metadata": {},
   "outputs": [
    {
     "name": "stdout",
     "output_type": "stream",
     "text": [
      "Error ingesting data: (psycopg2.OperationalError) FATAL:  password authentication failed for user \"postgresde\"\n",
      "\n",
      "(Background on this error at: https://sqlalche.me/e/20/e3q8)\n"
     ]
    }
   ],
   "source": [
    "ingest_csv_to_postgres(file_path)"
   ]
  }
 ],
 "metadata": {
  "kernelspec": {
   "display_name": "Python 3",
   "language": "python",
   "name": "python3"
  },
  "language_info": {
   "codemirror_mode": {
    "name": "ipython",
    "version": 3
   },
   "file_extension": ".py",
   "mimetype": "text/x-python",
   "name": "python",
   "nbconvert_exporter": "python",
   "pygments_lexer": "ipython3",
   "version": "3.12.7"
  }
 },
 "nbformat": 4,
 "nbformat_minor": 2
}
