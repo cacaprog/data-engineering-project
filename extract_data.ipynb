{
 "cells": [
  {
   "cell_type": "code",
   "execution_count": 1,
   "metadata": {},
   "outputs": [],
   "source": [
    "import os\n",
    "import requests\n",
    "import pandas as pd\n",
    "from sqlalchemy import create_engine, inspect, Table, Column, MetaData\n",
    "from sqlalchemy.types import Text\n",
    "from sqlalchemy import schema"
   ]
  },
  {
   "cell_type": "code",
   "execution_count": 21,
   "metadata": {},
   "outputs": [],
   "source": [
    "# Database connection parameters\n",
    "db_config = {\n",
    "    'dbname': 'brazil_vra',\n",
    "    'user': 'postgres',\n",
    "    'password': 'postgrespass',\n",
    "    'host': 'localhost',\n",
    "    'port': '5432'\n",
    "}"
   ]
  },
  {
   "cell_type": "code",
   "execution_count": 3,
   "metadata": {},
   "outputs": [],
   "source": [
    "# URL for the CSV file (January 2024)\n",
    "CSV_URL = \"https://siros.anac.gov.br/siros/registros/diversos/vra/2024/VRA_2024_01.csv\"\n",
    "\n",
    "# Directory to temporarily store downloaded CSV files\n",
    "TEMP_DIR = \"temp_csv_files\"\n",
    "os.makedirs(TEMP_DIR, exist_ok=True)\n",
    "\n",
    "# Batch size (number of rows to process at a time)\n",
    "BATCH_SIZE = 10000"
   ]
  },
  {
   "cell_type": "code",
   "execution_count": 8,
   "metadata": {},
   "outputs": [
    {
     "name": "stdout",
     "output_type": "stream",
     "text": [
      "Requirement already satisfied: psycopg2 in /usr/local/python/3.12.1/lib/python3.12/site-packages (2.9.10)\n",
      "\n",
      "\u001b[1m[\u001b[0m\u001b[34;49mnotice\u001b[0m\u001b[1;39;49m]\u001b[0m\u001b[39;49m A new release of pip is available: \u001b[0m\u001b[31;49m24.3.1\u001b[0m\u001b[39;49m -> \u001b[0m\u001b[32;49m25.0.1\u001b[0m\n",
      "\u001b[1m[\u001b[0m\u001b[34;49mnotice\u001b[0m\u001b[1;39;49m]\u001b[0m\u001b[39;49m To update, run: \u001b[0m\u001b[32;49mpython3 -m pip install --upgrade pip\u001b[0m\n"
     ]
    }
   ],
   "source": [
    "!pip install psycopg2"
   ]
  },
  {
   "cell_type": "code",
   "execution_count": 11,
   "metadata": {},
   "outputs": [],
   "source": [
    "import psycopg2"
   ]
  },
  {
   "cell_type": "code",
   "execution_count": 24,
   "metadata": {},
   "outputs": [],
   "source": [
    "# Function to create the database\n",
    "def create_database():\n",
    "    try:\n",
    "        # Connect to the default 'postgres' database\n",
    "        conn = psycopg2.connect(\n",
    "            dbname='postgres',  # Connect to the default 'postgres' database\n",
    "            user=db_config['user'],\n",
    "            password=db_config['password'],\n",
    "            host=db_config['host'],\n",
    "            port=db_config['port']\n",
    "        )\n",
    "        conn.autocommit = True  # Enable autocommit for database creation\n",
    "        cursor = conn.cursor()\n",
    "\n",
    "        # Check if the database already exists\n",
    "        cursor.execute(f\"SELECT 1 FROM pg_database WHERE datname = '{db_config['dbname']}';\")\n",
    "        if not cursor.fetchone():\n",
    "            # Create the database\n",
    "            cursor.execute(f\"CREATE DATABASE {db_config['dbname']};\")\n",
    "            print(f\"Database '{db_config['dbname']}' created successfully.\")\n",
    "        else:\n",
    "            print(f\"Database '{db_config['dbname']}' already exists.\")\n",
    "\n",
    "        # Close the connection\n",
    "        cursor.close()\n",
    "        conn.close()\n",
    "    except Exception as e:\n",
    "        print(f\"Error creating database: {e}\")"
   ]
  },
  {
   "cell_type": "code",
   "execution_count": 25,
   "metadata": {},
   "outputs": [
    {
     "name": "stdout",
     "output_type": "stream",
     "text": [
      "Database 'brazil_vra' already exists.\n"
     ]
    }
   ],
   "source": [
    "create_database()"
   ]
  },
  {
   "cell_type": "code",
   "execution_count": 26,
   "metadata": {},
   "outputs": [],
   "source": [
    "# Function to download the CSV file\n",
    "def download_csv() -> str:\n",
    "    response = requests.get(CSV_URL)\n",
    "    if response.status_code == 200:\n",
    "        file_path = os.path.join(TEMP_DIR, \"vra_2024_01.csv\")\n",
    "        with open(file_path, \"wb\") as file:\n",
    "            file.write(response.content)\n",
    "        print(\"Downloaded CSV file successfully.\")\n",
    "        return file_path\n",
    "    else:\n",
    "        print(\"Failed to download CSV file.\")\n",
    "        return None"
   ]
  },
  {
   "cell_type": "code",
   "execution_count": 27,
   "metadata": {},
   "outputs": [
    {
     "name": "stdout",
     "output_type": "stream",
     "text": [
      "Downloaded CSV file successfully.\n"
     ]
    },
    {
     "data": {
      "text/plain": [
       "'temp_csv_files/vra_2024_01.csv'"
      ]
     },
     "execution_count": 27,
     "metadata": {},
     "output_type": "execute_result"
    }
   ],
   "source": [
    "download_csv()"
   ]
  },
  {
   "cell_type": "code",
   "execution_count": 28,
   "metadata": {},
   "outputs": [],
   "source": [
    "# Function to ingest CSV data into PostgreSQL in batches\n",
    "def ingest_csv_to_postgres(file_path: str):\n",
    "    try:\n",
    "        # Create a SQLAlchemy engine\n",
    "        engine = create_engine(\n",
    "            f\"postgresql+psycopg2://{db_config['user']}:{db_config['password']}@{db_config['host']}:{db_config['port']}/{db_config['dbname']}\"\n",
    "        )\n",
    "        \n",
    "        # Define table name\n",
    "        table_name = \"vra_2024_01\"\n",
    "        \n",
    "        # Read CSV in chunks using pandas\n",
    "        for chunk in pd.read_csv(\n",
    "            file_path,\n",
    "            chunksize=BATCH_SIZE,\n",
    "            sep=';',              # Use semicolon as the delimiter\n",
    "            on_bad_lines='skip',  # Skip problematic rows\n",
    "            quotechar='\"',        # Specify the quote character\n",
    "            engine='python'       # Use the Python engine for flexible parsing\n",
    "        ):\n",
    "            # Ingest each chunk into PostgreSQL\n",
    "            chunk.to_sql(table_name, engine, if_exists=\"append\", index=False)\n",
    "            print(f\"Ingested batch of {len(chunk)} rows into table {table_name}\")\n",
    "        \n",
    "        print(f\"Finished ingesting data into table {table_name}\")\n",
    "    except exc.SQLAlchemyError as e:\n",
    "        print(f\"Error ingesting data: {e}\")\n",
    "    except Exception as e:\n",
    "        print(f\"Unexpected error: {e}\")"
   ]
  },
  {
   "cell_type": "code",
   "execution_count": 31,
   "metadata": {},
   "outputs": [
    {
     "name": "stdout",
     "output_type": "stream",
     "text": [
      "Ingested batch of 10000 rows into table vra_2024_01\n",
      "Ingested batch of 10000 rows into table vra_2024_01\n",
      "Ingested batch of 10000 rows into table vra_2024_01\n",
      "Ingested batch of 10000 rows into table vra_2024_01\n",
      "Ingested batch of 10000 rows into table vra_2024_01\n",
      "Ingested batch of 10000 rows into table vra_2024_01\n",
      "Ingested batch of 10000 rows into table vra_2024_01\n",
      "Ingested batch of 10000 rows into table vra_2024_01\n",
      "Ingested batch of 6617 rows into table vra_2024_01\n",
      "Finished ingesting data into table vra_2024_01\n"
     ]
    }
   ],
   "source": [
    "file_path = \"/workspaces/data-engineering-project/temp_csv_files/vra_2024_01.csv\"\n",
    "ingest_csv_to_postgres(file_path)"
   ]
  },
  {
   "cell_type": "code",
   "execution_count": 33,
   "metadata": {},
   "outputs": [
    {
     "data": {
      "text/html": [
       "<div>\n",
       "<style scoped>\n",
       "    .dataframe tbody tr th:only-of-type {\n",
       "        vertical-align: middle;\n",
       "    }\n",
       "\n",
       "    .dataframe tbody tr th {\n",
       "        vertical-align: top;\n",
       "    }\n",
       "\n",
       "    .dataframe thead th {\n",
       "        text-align: right;\n",
       "    }\n",
       "</style>\n",
       "<table border=\"1\" class=\"dataframe\">\n",
       "  <thead>\n",
       "    <tr style=\"text-align: right;\">\n",
       "      <th></th>\n",
       "      <th>Sigla ICAO Empresa Aérea</th>\n",
       "      <th>Empresa Aérea</th>\n",
       "      <th>Número Voo</th>\n",
       "      <th>Código DI</th>\n",
       "      <th>Código Tipo Linha</th>\n",
       "      <th>Modelo Equipamento</th>\n",
       "      <th>Número de Assentos</th>\n",
       "      <th>Sigla ICAO Aeroporto Origem</th>\n",
       "      <th>Descrição Aeroporto Origem</th>\n",
       "      <th>Partida Prevista</th>\n",
       "      <th>Partida Real</th>\n",
       "      <th>Sigla ICAO Aeroporto Destino</th>\n",
       "      <th>Descrição Aeroporto Destino</th>\n",
       "      <th>Chegada Prevista</th>\n",
       "      <th>Chegada Real</th>\n",
       "      <th>Situação Voo</th>\n",
       "      <th>Justificativa</th>\n",
       "      <th>Referência</th>\n",
       "      <th>Situação Partida</th>\n",
       "      <th>Situação Chegada</th>\n",
       "    </tr>\n",
       "  </thead>\n",
       "  <tbody>\n",
       "    <tr>\n",
       "      <th>0</th>\n",
       "      <td>AAL</td>\n",
       "      <td>AMERICAN AIRLINES, INC.</td>\n",
       "      <td>0904</td>\n",
       "      <td>0</td>\n",
       "      <td>I</td>\n",
       "      <td>B772</td>\n",
       "      <td>288</td>\n",
       "      <td>SBGL</td>\n",
       "      <td>AEROPORTO INTERNACIONAL DO RIO DE JANEIRO (GAL...</td>\n",
       "      <td>01/01/2024 23:55</td>\n",
       "      <td>01/01/2024 23:47</td>\n",
       "      <td>KMIA</td>\n",
       "      <td>MIAMI INTERNATIONAL AIRPORT - MIAMI, FLORIDA -...</td>\n",
       "      <td>02/01/2024 07:45</td>\n",
       "      <td>02/01/2024 08:19</td>\n",
       "      <td>REALIZADO</td>\n",
       "      <td>NaN</td>\n",
       "      <td>2024-01-01</td>\n",
       "      <td>Antecipado</td>\n",
       "      <td>Atraso 30-60</td>\n",
       "    </tr>\n",
       "    <tr>\n",
       "      <th>1</th>\n",
       "      <td>AAL</td>\n",
       "      <td>AMERICAN AIRLINES, INC.</td>\n",
       "      <td>0905</td>\n",
       "      <td>0</td>\n",
       "      <td>I</td>\n",
       "      <td>B772</td>\n",
       "      <td>288</td>\n",
       "      <td>KMIA</td>\n",
       "      <td>MIAMI INTERNATIONAL AIRPORT - MIAMI, FLORIDA -...</td>\n",
       "      <td>01/01/2024 23:55</td>\n",
       "      <td>01/01/2024 01:29</td>\n",
       "      <td>SBGL</td>\n",
       "      <td>AEROPORTO INTERNACIONAL DO RIO DE JANEIRO (GAL...</td>\n",
       "      <td>02/01/2024 09:25</td>\n",
       "      <td>01/01/2024 09:35</td>\n",
       "      <td>REALIZADO</td>\n",
       "      <td>NaN</td>\n",
       "      <td>2024-01-01</td>\n",
       "      <td>Antecipado</td>\n",
       "      <td>Antecipado</td>\n",
       "    </tr>\n",
       "    <tr>\n",
       "      <th>2</th>\n",
       "      <td>AAL</td>\n",
       "      <td>AMERICAN AIRLINES, INC.</td>\n",
       "      <td>0906</td>\n",
       "      <td>0</td>\n",
       "      <td>I</td>\n",
       "      <td>B77W</td>\n",
       "      <td>318</td>\n",
       "      <td>SBGR</td>\n",
       "      <td>GUARULHOS - GOVERNADOR ANDRÉ FRANCO MONTORO - ...</td>\n",
       "      <td>01/01/2024 00:55</td>\n",
       "      <td>01/01/2024 00:46</td>\n",
       "      <td>KMIA</td>\n",
       "      <td>MIAMI INTERNATIONAL AIRPORT - MIAMI, FLORIDA -...</td>\n",
       "      <td>01/01/2024 08:35</td>\n",
       "      <td>01/01/2024 08:45</td>\n",
       "      <td>REALIZADO</td>\n",
       "      <td>NaN</td>\n",
       "      <td>2024-01-01</td>\n",
       "      <td>Antecipado</td>\n",
       "      <td>Pontual</td>\n",
       "    </tr>\n",
       "    <tr>\n",
       "      <th>3</th>\n",
       "      <td>AAL</td>\n",
       "      <td>AMERICAN AIRLINES, INC.</td>\n",
       "      <td>0925</td>\n",
       "      <td>0</td>\n",
       "      <td>I</td>\n",
       "      <td>B772</td>\n",
       "      <td>288</td>\n",
       "      <td>KMIA</td>\n",
       "      <td>MIAMI INTERNATIONAL AIRPORT - MIAMI, FLORIDA -...</td>\n",
       "      <td>01/01/2024 21:20</td>\n",
       "      <td>01/01/2024 23:17</td>\n",
       "      <td>SBGR</td>\n",
       "      <td>GUARULHOS - GOVERNADOR ANDRÉ FRANCO MONTORO - ...</td>\n",
       "      <td>02/01/2024 07:50</td>\n",
       "      <td>02/01/2024 07:47</td>\n",
       "      <td>REALIZADO</td>\n",
       "      <td>NaN</td>\n",
       "      <td>2024-01-01</td>\n",
       "      <td>Atraso 60-120</td>\n",
       "      <td>Antecipado</td>\n",
       "    </tr>\n",
       "    <tr>\n",
       "      <th>4</th>\n",
       "      <td>AAL</td>\n",
       "      <td>AMERICAN AIRLINES, INC.</td>\n",
       "      <td>0929</td>\n",
       "      <td>0</td>\n",
       "      <td>I</td>\n",
       "      <td>B77W</td>\n",
       "      <td>318</td>\n",
       "      <td>KMIA</td>\n",
       "      <td>MIAMI INTERNATIONAL AIRPORT - MIAMI, FLORIDA -...</td>\n",
       "      <td>01/01/2024 20:50</td>\n",
       "      <td>01/01/2024 21:51</td>\n",
       "      <td>SBGR</td>\n",
       "      <td>GUARULHOS - GOVERNADOR ANDRÉ FRANCO MONTORO - ...</td>\n",
       "      <td>02/01/2024 06:20</td>\n",
       "      <td>02/01/2024 06:13</td>\n",
       "      <td>REALIZADO</td>\n",
       "      <td>NaN</td>\n",
       "      <td>2024-01-01</td>\n",
       "      <td>Atraso 60-120</td>\n",
       "      <td>Antecipado</td>\n",
       "    </tr>\n",
       "  </tbody>\n",
       "</table>\n",
       "</div>"
      ],
      "text/plain": [
       "  Sigla ICAO Empresa Aérea            Empresa Aérea Número Voo Código DI  \\\n",
       "0                      AAL  AMERICAN AIRLINES, INC.       0904         0   \n",
       "1                      AAL  AMERICAN AIRLINES, INC.       0905         0   \n",
       "2                      AAL  AMERICAN AIRLINES, INC.       0906         0   \n",
       "3                      AAL  AMERICAN AIRLINES, INC.       0925         0   \n",
       "4                      AAL  AMERICAN AIRLINES, INC.       0929         0   \n",
       "\n",
       "  Código Tipo Linha Modelo Equipamento  Número de Assentos  \\\n",
       "0                 I               B772                 288   \n",
       "1                 I               B772                 288   \n",
       "2                 I               B77W                 318   \n",
       "3                 I               B772                 288   \n",
       "4                 I               B77W                 318   \n",
       "\n",
       "  Sigla ICAO Aeroporto Origem  \\\n",
       "0                        SBGL   \n",
       "1                        KMIA   \n",
       "2                        SBGR   \n",
       "3                        KMIA   \n",
       "4                        KMIA   \n",
       "\n",
       "                          Descrição Aeroporto Origem  Partida Prevista  \\\n",
       "0  AEROPORTO INTERNACIONAL DO RIO DE JANEIRO (GAL...  01/01/2024 23:55   \n",
       "1  MIAMI INTERNATIONAL AIRPORT - MIAMI, FLORIDA -...  01/01/2024 23:55   \n",
       "2  GUARULHOS - GOVERNADOR ANDRÉ FRANCO MONTORO - ...  01/01/2024 00:55   \n",
       "3  MIAMI INTERNATIONAL AIRPORT - MIAMI, FLORIDA -...  01/01/2024 21:20   \n",
       "4  MIAMI INTERNATIONAL AIRPORT - MIAMI, FLORIDA -...  01/01/2024 20:50   \n",
       "\n",
       "       Partida Real Sigla ICAO Aeroporto Destino  \\\n",
       "0  01/01/2024 23:47                         KMIA   \n",
       "1  01/01/2024 01:29                         SBGL   \n",
       "2  01/01/2024 00:46                         KMIA   \n",
       "3  01/01/2024 23:17                         SBGR   \n",
       "4  01/01/2024 21:51                         SBGR   \n",
       "\n",
       "                         Descrição Aeroporto Destino  Chegada Prevista  \\\n",
       "0  MIAMI INTERNATIONAL AIRPORT - MIAMI, FLORIDA -...  02/01/2024 07:45   \n",
       "1  AEROPORTO INTERNACIONAL DO RIO DE JANEIRO (GAL...  02/01/2024 09:25   \n",
       "2  MIAMI INTERNATIONAL AIRPORT - MIAMI, FLORIDA -...  01/01/2024 08:35   \n",
       "3  GUARULHOS - GOVERNADOR ANDRÉ FRANCO MONTORO - ...  02/01/2024 07:50   \n",
       "4  GUARULHOS - GOVERNADOR ANDRÉ FRANCO MONTORO - ...  02/01/2024 06:20   \n",
       "\n",
       "       Chegada Real Situação Voo  Justificativa  Referência Situação Partida  \\\n",
       "0  02/01/2024 08:19    REALIZADO            NaN  2024-01-01       Antecipado   \n",
       "1  01/01/2024 09:35    REALIZADO            NaN  2024-01-01       Antecipado   \n",
       "2  01/01/2024 08:45    REALIZADO            NaN  2024-01-01       Antecipado   \n",
       "3  02/01/2024 07:47    REALIZADO            NaN  2024-01-01    Atraso 60-120   \n",
       "4  02/01/2024 06:13    REALIZADO            NaN  2024-01-01    Atraso 60-120   \n",
       "\n",
       "  Situação Chegada  \n",
       "0     Atraso 30-60  \n",
       "1       Antecipado  \n",
       "2          Pontual  \n",
       "3       Antecipado  \n",
       "4       Antecipado  "
      ]
     },
     "execution_count": 33,
     "metadata": {},
     "output_type": "execute_result"
    }
   ],
   "source": [
    "df = pd.read_csv(\"/workspaces/data-engineering-project/temp_csv_files/vra_2024_01.csv\", sep=';')\n",
    "df.head()"
   ]
  },
  {
   "cell_type": "code",
   "execution_count": 34,
   "metadata": {},
   "outputs": [
    {
     "data": {
      "text/plain": [
       "Sigla ICAO Empresa Aérea         object\n",
       "Empresa Aérea                    object\n",
       "Número Voo                       object\n",
       "Código DI                        object\n",
       "Código Tipo Linha                object\n",
       "Modelo Equipamento               object\n",
       "Número de Assentos                int64\n",
       "Sigla ICAO Aeroporto Origem      object\n",
       "Descrição Aeroporto Origem       object\n",
       "Partida Prevista                 object\n",
       "Partida Real                     object\n",
       "Sigla ICAO Aeroporto Destino     object\n",
       "Descrição Aeroporto Destino      object\n",
       "Chegada Prevista                 object\n",
       "Chegada Real                     object\n",
       "Situação Voo                     object\n",
       "Justificativa                   float64\n",
       "Referência                       object\n",
       "Situação Partida                 object\n",
       "Situação Chegada                 object\n",
       "dtype: object"
      ]
     },
     "execution_count": 34,
     "metadata": {},
     "output_type": "execute_result"
    }
   ],
   "source": [
    "df.dtypes"
   ]
  },
  {
   "cell_type": "code",
   "execution_count": 35,
   "metadata": {},
   "outputs": [],
   "source": [
    "engine = create_engine(\n",
    "            f\"postgresql+psycopg2://{db_config['user']}:{db_config['password']}@{db_config['host']}:{db_config['port']}/{db_config['dbname']}\"\n",
    "        )\n",
    "\n",
    "# Create a MetaData object\n",
    "metadata = MetaData()"
   ]
  },
  {
   "cell_type": "code",
   "execution_count": 38,
   "metadata": {},
   "outputs": [
    {
     "data": {
      "text/plain": [
       "617"
      ]
     },
     "execution_count": 38,
     "metadata": {},
     "output_type": "execute_result"
    }
   ],
   "source": [
    "df.to_sql('brazil_vra', engine)"
   ]
  },
  {
   "cell_type": "code",
   "execution_count": 39,
   "metadata": {},
   "outputs": [
    {
     "name": "stdout",
     "output_type": "stream",
     "text": [
      "index BIGINT\n",
      "Sigla ICAO Empresa Aérea TEXT\n",
      "Empresa Aérea TEXT\n",
      "Número Voo TEXT\n",
      "Código DI TEXT\n",
      "Código Tipo Linha TEXT\n",
      "Modelo Equipamento TEXT\n",
      "Número de Assentos BIGINT\n",
      "Sigla ICAO Aeroporto Origem TEXT\n",
      "Descrição Aeroporto Origem TEXT\n",
      "Partida Prevista TEXT\n",
      "Partida Real TEXT\n",
      "Sigla ICAO Aeroporto Destino TEXT\n",
      "Descrição Aeroporto Destino TEXT\n",
      "Chegada Prevista TEXT\n",
      "Chegada Real TEXT\n",
      "Situação Voo TEXT\n",
      "Justificativa DOUBLE PRECISION\n",
      "Referência TEXT\n",
      "Situação Partida TEXT\n",
      "Situação Chegada TEXT\n"
     ]
    }
   ],
   "source": [
    "from sqlalchemy import inspect\n",
    "\n",
    "inspector = inspect(engine)\n",
    "columns = inspector.get_columns('brazil_vra')\n",
    "for column in columns:\n",
    "    print(column['name'], column['type'])"
   ]
  },
  {
   "cell_type": "code",
   "execution_count": 40,
   "metadata": {},
   "outputs": [
    {
     "name": "stdout",
     "output_type": "stream",
     "text": [
      "<class 'pandas.core.frame.DataFrame'>\n",
      "RangeIndex: 86617 entries, 0 to 86616\n",
      "Data columns (total 20 columns):\n",
      " #   Column                        Non-Null Count  Dtype  \n",
      "---  ------                        --------------  -----  \n",
      " 0   Sigla ICAO Empresa Aérea      86617 non-null  object \n",
      " 1   Empresa Aérea                 86617 non-null  object \n",
      " 2   Número Voo                    86617 non-null  object \n",
      " 3   Código DI                     86617 non-null  object \n",
      " 4   Código Tipo Linha             86617 non-null  object \n",
      " 5   Modelo Equipamento            86617 non-null  object \n",
      " 6   Número de Assentos            86617 non-null  int64  \n",
      " 7   Sigla ICAO Aeroporto Origem   86617 non-null  object \n",
      " 8   Descrição Aeroporto Origem    86617 non-null  object \n",
      " 9   Partida Prevista              82370 non-null  object \n",
      " 10  Partida Real                  82197 non-null  object \n",
      " 11  Sigla ICAO Aeroporto Destino  86617 non-null  object \n",
      " 12  Descrição Aeroporto Destino   86617 non-null  object \n",
      " 13  Chegada Prevista              82370 non-null  object \n",
      " 14  Chegada Real                  82197 non-null  object \n",
      " 15  Situação Voo                  86617 non-null  object \n",
      " 16  Justificativa                 0 non-null      float64\n",
      " 17  Referência                    86617 non-null  object \n",
      " 18  Situação Partida              77950 non-null  object \n",
      " 19  Situação Chegada              77950 non-null  object \n",
      "dtypes: float64(1), int64(1), object(18)\n",
      "memory usage: 13.2+ MB\n"
     ]
    }
   ],
   "source": [
    "df.info()"
   ]
  },
  {
   "cell_type": "code",
   "execution_count": null,
   "metadata": {},
   "outputs": [
    {
     "data": {
      "text/plain": [
       "Index(['Sigla ICAO Empresa Aérea', 'Empresa Aérea', 'Número Voo', 'Código DI',\n",
       "       'Código Tipo Linha', 'Modelo Equipamento', 'Número de Assentos',\n",
       "       'Sigla ICAO Aeroporto Origem', 'Descrição Aeroporto Origem',\n",
       "       'Partida Prevista', 'Partida Real', 'Sigla ICAO Aeroporto Destino',\n",
       "       'Descrição Aeroporto Destino', 'Chegada Prevista', 'Chegada Real',\n",
       "       'Situação Voo', 'Justificativa', 'Referência', 'Situação Partida',\n",
       "       'Situação Chegada'],\n",
       "      dtype='object')"
      ]
     },
     "execution_count": 42,
     "metadata": {},
     "output_type": "execute_result"
    }
   ],
   "source": [
    "df.columns"
   ]
  },
  {
   "cell_type": "code",
   "execution_count": 45,
   "metadata": {},
   "outputs": [
    {
     "data": {
      "text/plain": [
       "count    0.0\n",
       "mean     NaN\n",
       "std      NaN\n",
       "min      NaN\n",
       "25%      NaN\n",
       "50%      NaN\n",
       "75%      NaN\n",
       "max      NaN\n",
       "Name: Justificativa, dtype: float64"
      ]
     },
     "execution_count": 45,
     "metadata": {},
     "output_type": "execute_result"
    }
   ],
   "source": [
    "df['Justificativa'].describe()"
   ]
  },
  {
   "cell_type": "markdown",
   "metadata": {},
   "source": [
    "Partida Prevista datetime64\n",
    "Partida Real datetime64\n",
    "Chegada Prevista datetime64\n",
    "Chegada Real datetime64\n",
    "Justificativa TEXT"
   ]
  },
  {
   "cell_type": "code",
   "execution_count": 46,
   "metadata": {},
   "outputs": [],
   "source": [
    "from sqlalchemy import DateTime, Text\n",
    "\n",
    "schema_dict = {\n",
    "    'Partida Prevista': DateTime,\n",
    "    'Partida Real': DateTime,\n",
    "    'Chegada Prevista': DateTime,\n",
    "    'Chegada Real': DateTime,\n",
    "    'Justificativa': Text,\n",
    "}"
   ]
  },
  {
   "cell_type": "code",
   "execution_count": 47,
   "metadata": {},
   "outputs": [],
   "source": [
    "from sqlalchemy import Table, Column\n",
    "\n",
    "# Define the table schema dynamically using the dictionary\n",
    "columns = [Column(col_name, col_type) for col_name, col_type in schema_dict.items()]\n",
    "\n",
    "# Create the table\n",
    "table = Table('vra_2024_01', metadata, *columns)\n",
    "\n",
    "# Create the table in the database\n",
    "metadata.create_all(engine)"
   ]
  },
  {
   "cell_type": "code",
   "execution_count": 52,
   "metadata": {},
   "outputs": [
    {
     "data": {
      "text/plain": [
       "617"
      ]
     },
     "execution_count": 52,
     "metadata": {},
     "output_type": "execute_result"
    }
   ],
   "source": [
    "# Convert the relevant columns to datetime (if they are not already)\n",
    "datetime_columns = ['Partida Prevista', 'Partida Real', 'Chegada Prevista', 'Chegada Real', 'Referência']\n",
    "for col in datetime_columns:\n",
    "    #df[col] = pd.to_datetime(df[col], format='%d/%m/%Y %H:%M')\n",
    "    df[col] = pd.to_datetime(df[col], format='mixed')\n",
    "\n",
    "# Insert data into the table\n",
    "df.to_sql('vra_2024_01', engine, if_exists='replace', index=False)"
   ]
  },
  {
   "cell_type": "code",
   "execution_count": 53,
   "metadata": {},
   "outputs": [
    {
     "name": "stdout",
     "output_type": "stream",
     "text": [
      "Sigla ICAO Empresa Aérea TEXT\n",
      "Empresa Aérea TEXT\n",
      "Número Voo TEXT\n",
      "Código DI TEXT\n",
      "Código Tipo Linha TEXT\n",
      "Modelo Equipamento TEXT\n",
      "Número de Assentos BIGINT\n",
      "Sigla ICAO Aeroporto Origem TEXT\n",
      "Descrição Aeroporto Origem TEXT\n",
      "Partida Prevista TIMESTAMP\n",
      "Partida Real TIMESTAMP\n",
      "Sigla ICAO Aeroporto Destino TEXT\n",
      "Descrição Aeroporto Destino TEXT\n",
      "Chegada Prevista TIMESTAMP\n",
      "Chegada Real TIMESTAMP\n",
      "Situação Voo TEXT\n",
      "Justificativa DOUBLE PRECISION\n",
      "Referência TIMESTAMP\n",
      "Situação Partida TEXT\n",
      "Situação Chegada TEXT\n"
     ]
    }
   ],
   "source": [
    "# Verify the schema\n",
    "inspector = inspect(engine)\n",
    "columns = inspector.get_columns('vra_2024_01')\n",
    "for column in columns:\n",
    "    print(column['name'], column['type'])"
   ]
  }
 ],
 "metadata": {
  "kernelspec": {
   "display_name": "Python 3",
   "language": "python",
   "name": "python3"
  },
  "language_info": {
   "codemirror_mode": {
    "name": "ipython",
    "version": 3
   },
   "file_extension": ".py",
   "mimetype": "text/x-python",
   "name": "python",
   "nbconvert_exporter": "python",
   "pygments_lexer": "ipython3",
   "version": "3.12.1"
  }
 },
 "nbformat": 4,
 "nbformat_minor": 2
}
